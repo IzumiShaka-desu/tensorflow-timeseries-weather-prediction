{
  "nbformat": 4,
  "nbformat_minor": 0,
  "metadata": {
    "colab": {
      "name": "timeseries-weather-prediction.ipynb",
      "provenance": []
    },
    "kernelspec": {
      "name": "python3",
      "display_name": "Python 3"
    },
    "accelerator": "GPU"
  },
  "cells": [
    {
      "cell_type": "code",
      "metadata": {
        "id": "-lqp_7KWRImh"
      },
      "source": [
        ""
      ],
      "execution_count": null,
      "outputs": []
    },
    {
      "cell_type": "code",
      "metadata": {
        "colab": {
          "base_uri": "https://localhost:8080/"
        },
        "id": "SOlyOcO0RO4C",
        "outputId": "995183ec-747f-45f0-ad73-ae155f7a119b"
      },
      "source": [
        "import tensorflow as tf\r\n",
        "!pip install kaggle\r\n",
        "api_token = {\"username\":\"your-username\",\"key\":\"youre-api-key\"}\r\n",
        "import os\r\n"
      ],
      "execution_count": null,
      "outputs": [
        {
          "output_type": "stream",
          "text": [
            "Requirement already satisfied: kaggle in /usr/local/lib/python3.6/dist-packages (1.5.10)\n",
            "Requirement already satisfied: certifi in /usr/local/lib/python3.6/dist-packages (from kaggle) (2020.12.5)\n",
            "Requirement already satisfied: requests in /usr/local/lib/python3.6/dist-packages (from kaggle) (2.23.0)\n",
            "Requirement already satisfied: six>=1.10 in /usr/local/lib/python3.6/dist-packages (from kaggle) (1.15.0)\n",
            "Requirement already satisfied: urllib3 in /usr/local/lib/python3.6/dist-packages (from kaggle) (1.24.3)\n",
            "Requirement already satisfied: tqdm in /usr/local/lib/python3.6/dist-packages (from kaggle) (4.41.1)\n",
            "Requirement already satisfied: python-dateutil in /usr/local/lib/python3.6/dist-packages (from kaggle) (2.8.1)\n",
            "Requirement already satisfied: python-slugify in /usr/local/lib/python3.6/dist-packages (from kaggle) (4.0.1)\n",
            "Requirement already satisfied: chardet<4,>=3.0.2 in /usr/local/lib/python3.6/dist-packages (from requests->kaggle) (3.0.4)\n",
            "Requirement already satisfied: idna<3,>=2.5 in /usr/local/lib/python3.6/dist-packages (from requests->kaggle) (2.10)\n",
            "Requirement already satisfied: text-unidecode>=1.3 in /usr/local/lib/python3.6/dist-packages (from python-slugify->kaggle) (1.3)\n"
          ],
          "name": "stdout"
        }
      ]
    },
    {
      "cell_type": "code",
      "metadata": {
        "id": "PduO1YXKRhTJ",
        "colab": {
          "base_uri": "https://localhost:8080/"
        },
        "outputId": "287c1528-06fa-4bc6-bc54-be336a144c56"
      },
      "source": [
        "path='/root/.kaggle/'\r\n",
        "file='kaggle.json'\r\n",
        "if not (os.path.exists(path)):\r\n",
        "  os.mkdir(path)\r\n",
        "if not (os.path.exists('/root/.kaggle/kaggle.json')):\r\n",
        "  with open(os.path.join(path, file), 'w+') as fp:\r\n",
        "    print(fp) \r\n",
        "  !echo '{\"username\":\"your-username\",\"key\":\"youre-api-key\"}' > /root/.kaggle/kaggle.json\r\n",
        "  ! chmod 600 ~/.kaggle/kaggle.json\r\n"
      ],
      "execution_count": null,
      "outputs": [
        {
          "output_type": "stream",
          "text": [
            "<_io.TextIOWrapper name='/root/.kaggle/kaggle.json' mode='w+' encoding='UTF-8'>\n"
          ],
          "name": "stdout"
        }
      ]
    },
    {
      "cell_type": "code",
      "metadata": {
        "id": "OGox0Ho5RxFC"
      },
      "source": [
        ""
      ],
      "execution_count": null,
      "outputs": []
    },
    {
      "cell_type": "code",
      "metadata": {
        "colab": {
          "base_uri": "https://localhost:8080/"
        },
        "id": "Vs_dGmq9RlWK",
        "outputId": "5a7dad8d-8dff-40be-c6db-827d3c571fce"
      },
      "source": [
        "! kaggle datasets download -d amandalk/sp-air-quality"
      ],
      "execution_count": null,
      "outputs": [
        {
          "output_type": "stream",
          "text": [
            "Downloading sp-air-quality.zip to /content\n",
            " 24% 5.00M/21.0M [00:00<00:00, 48.9MB/s]\n",
            "100% 21.0M/21.0M [00:00<00:00, 103MB/s] \n"
          ],
          "name": "stdout"
        }
      ]
    },
    {
      "cell_type": "code",
      "metadata": {
        "colab": {
          "base_uri": "https://localhost:8080/"
        },
        "id": "BlJOXdf7RysR",
        "outputId": "513da3f5-6930-4372-aaac-440d66193669"
      },
      "source": [
        "!unzip /content/sp-air-quality.zip"
      ],
      "execution_count": null,
      "outputs": [
        {
          "output_type": "stream",
          "text": [
            "Archive:  /content/sp-air-quality.zip\n",
            "  inflating: sp_air_quality.csv      \n"
          ],
          "name": "stdout"
        }
      ]
    },
    {
      "cell_type": "code",
      "metadata": {
        "colab": {
          "base_uri": "https://localhost:8080/",
          "height": 407
        },
        "id": "Drd_FZIHYzeW",
        "outputId": "43a4c211-64c6-439f-b6f1-2575e7e4e8eb"
      },
      "source": [
        "import pandas as pd\r\n",
        "df = pd.read_csv(f'sp_air_quality.csv',)\r\n",
        "df"
      ],
      "execution_count": null,
      "outputs": [
        {
          "output_type": "execute_result",
          "data": {
            "text/html": [
              "<div>\n",
              "<style scoped>\n",
              "    .dataframe tbody tr th:only-of-type {\n",
              "        vertical-align: middle;\n",
              "    }\n",
              "\n",
              "    .dataframe tbody tr th {\n",
              "        vertical-align: top;\n",
              "    }\n",
              "\n",
              "    .dataframe thead th {\n",
              "        text-align: right;\n",
              "    }\n",
              "</style>\n",
              "<table border=\"1\" class=\"dataframe\">\n",
              "  <thead>\n",
              "    <tr style=\"text-align: right;\">\n",
              "      <th></th>\n",
              "      <th>Datetime</th>\n",
              "      <th>Station</th>\n",
              "      <th>Benzene</th>\n",
              "      <th>CO</th>\n",
              "      <th>PM10</th>\n",
              "      <th>PM2.5</th>\n",
              "      <th>NO2</th>\n",
              "      <th>O3</th>\n",
              "      <th>SO2</th>\n",
              "      <th>Toluene</th>\n",
              "      <th>TRS</th>\n",
              "    </tr>\n",
              "  </thead>\n",
              "  <tbody>\n",
              "    <tr>\n",
              "      <th>0</th>\n",
              "      <td>2013-05-08 01:00:00</td>\n",
              "      <td>Araçatuba</td>\n",
              "      <td>NaN</td>\n",
              "      <td>NaN</td>\n",
              "      <td>30.0</td>\n",
              "      <td>NaN</td>\n",
              "      <td>NaN</td>\n",
              "      <td>7.0</td>\n",
              "      <td>NaN</td>\n",
              "      <td>NaN</td>\n",
              "      <td>NaN</td>\n",
              "    </tr>\n",
              "    <tr>\n",
              "      <th>1</th>\n",
              "      <td>2013-05-08 02:00:00</td>\n",
              "      <td>Araçatuba</td>\n",
              "      <td>NaN</td>\n",
              "      <td>NaN</td>\n",
              "      <td>30.0</td>\n",
              "      <td>NaN</td>\n",
              "      <td>NaN</td>\n",
              "      <td>6.0</td>\n",
              "      <td>NaN</td>\n",
              "      <td>NaN</td>\n",
              "      <td>NaN</td>\n",
              "    </tr>\n",
              "    <tr>\n",
              "      <th>2</th>\n",
              "      <td>2013-05-08 03:00:00</td>\n",
              "      <td>Araçatuba</td>\n",
              "      <td>NaN</td>\n",
              "      <td>NaN</td>\n",
              "      <td>31.0</td>\n",
              "      <td>NaN</td>\n",
              "      <td>NaN</td>\n",
              "      <td>6.0</td>\n",
              "      <td>NaN</td>\n",
              "      <td>NaN</td>\n",
              "      <td>NaN</td>\n",
              "    </tr>\n",
              "    <tr>\n",
              "      <th>3</th>\n",
              "      <td>2013-05-08 04:00:00</td>\n",
              "      <td>Araçatuba</td>\n",
              "      <td>NaN</td>\n",
              "      <td>NaN</td>\n",
              "      <td>31.0</td>\n",
              "      <td>NaN</td>\n",
              "      <td>NaN</td>\n",
              "      <td>4.0</td>\n",
              "      <td>NaN</td>\n",
              "      <td>NaN</td>\n",
              "      <td>NaN</td>\n",
              "    </tr>\n",
              "    <tr>\n",
              "      <th>4</th>\n",
              "      <td>2013-05-08 05:00:00</td>\n",
              "      <td>Araçatuba</td>\n",
              "      <td>NaN</td>\n",
              "      <td>NaN</td>\n",
              "      <td>32.0</td>\n",
              "      <td>NaN</td>\n",
              "      <td>NaN</td>\n",
              "      <td>4.0</td>\n",
              "      <td>NaN</td>\n",
              "      <td>NaN</td>\n",
              "      <td>NaN</td>\n",
              "    </tr>\n",
              "    <tr>\n",
              "      <th>...</th>\n",
              "      <td>...</td>\n",
              "      <td>...</td>\n",
              "      <td>...</td>\n",
              "      <td>...</td>\n",
              "      <td>...</td>\n",
              "      <td>...</td>\n",
              "      <td>...</td>\n",
              "      <td>...</td>\n",
              "      <td>...</td>\n",
              "      <td>...</td>\n",
              "      <td>...</td>\n",
              "    </tr>\n",
              "    <tr>\n",
              "      <th>3445255</th>\n",
              "      <td>2020-09-09 20:00:00</td>\n",
              "      <td>Taubaté</td>\n",
              "      <td>NaN</td>\n",
              "      <td>NaN</td>\n",
              "      <td>32.0</td>\n",
              "      <td>38.0</td>\n",
              "      <td>4.0</td>\n",
              "      <td>51.0</td>\n",
              "      <td>NaN</td>\n",
              "      <td>NaN</td>\n",
              "      <td>NaN</td>\n",
              "    </tr>\n",
              "    <tr>\n",
              "      <th>3445256</th>\n",
              "      <td>2020-09-09 21:00:00</td>\n",
              "      <td>Taubaté</td>\n",
              "      <td>NaN</td>\n",
              "      <td>NaN</td>\n",
              "      <td>32.0</td>\n",
              "      <td>38.0</td>\n",
              "      <td>3.0</td>\n",
              "      <td>40.0</td>\n",
              "      <td>NaN</td>\n",
              "      <td>NaN</td>\n",
              "      <td>NaN</td>\n",
              "    </tr>\n",
              "    <tr>\n",
              "      <th>3445257</th>\n",
              "      <td>2020-09-09 22:00:00</td>\n",
              "      <td>Taubaté</td>\n",
              "      <td>NaN</td>\n",
              "      <td>NaN</td>\n",
              "      <td>32.0</td>\n",
              "      <td>38.0</td>\n",
              "      <td>4.0</td>\n",
              "      <td>35.0</td>\n",
              "      <td>NaN</td>\n",
              "      <td>NaN</td>\n",
              "      <td>NaN</td>\n",
              "    </tr>\n",
              "    <tr>\n",
              "      <th>3445258</th>\n",
              "      <td>2020-09-09 23:00:00</td>\n",
              "      <td>Taubaté</td>\n",
              "      <td>NaN</td>\n",
              "      <td>NaN</td>\n",
              "      <td>33.0</td>\n",
              "      <td>38.0</td>\n",
              "      <td>6.0</td>\n",
              "      <td>30.0</td>\n",
              "      <td>NaN</td>\n",
              "      <td>NaN</td>\n",
              "      <td>NaN</td>\n",
              "    </tr>\n",
              "    <tr>\n",
              "      <th>3445259</th>\n",
              "      <td>2020-09-09 00:00:00</td>\n",
              "      <td>Taubaté</td>\n",
              "      <td>NaN</td>\n",
              "      <td>NaN</td>\n",
              "      <td>33.0</td>\n",
              "      <td>38.0</td>\n",
              "      <td>6.0</td>\n",
              "      <td>24.0</td>\n",
              "      <td>NaN</td>\n",
              "      <td>NaN</td>\n",
              "      <td>NaN</td>\n",
              "    </tr>\n",
              "  </tbody>\n",
              "</table>\n",
              "<p>3445260 rows × 11 columns</p>\n",
              "</div>"
            ],
            "text/plain": [
              "                    Datetime    Station  Benzene  CO  ...    O3  SO2  Toluene  TRS\n",
              "0        2013-05-08 01:00:00  Araçatuba      NaN NaN  ...   7.0  NaN      NaN  NaN\n",
              "1        2013-05-08 02:00:00  Araçatuba      NaN NaN  ...   6.0  NaN      NaN  NaN\n",
              "2        2013-05-08 03:00:00  Araçatuba      NaN NaN  ...   6.0  NaN      NaN  NaN\n",
              "3        2013-05-08 04:00:00  Araçatuba      NaN NaN  ...   4.0  NaN      NaN  NaN\n",
              "4        2013-05-08 05:00:00  Araçatuba      NaN NaN  ...   4.0  NaN      NaN  NaN\n",
              "...                      ...        ...      ...  ..  ...   ...  ...      ...  ...\n",
              "3445255  2020-09-09 20:00:00    Taubaté      NaN NaN  ...  51.0  NaN      NaN  NaN\n",
              "3445256  2020-09-09 21:00:00    Taubaté      NaN NaN  ...  40.0  NaN      NaN  NaN\n",
              "3445257  2020-09-09 22:00:00    Taubaté      NaN NaN  ...  35.0  NaN      NaN  NaN\n",
              "3445258  2020-09-09 23:00:00    Taubaté      NaN NaN  ...  30.0  NaN      NaN  NaN\n",
              "3445259  2020-09-09 00:00:00    Taubaté      NaN NaN  ...  24.0  NaN      NaN  NaN\n",
              "\n",
              "[3445260 rows x 11 columns]"
            ]
          },
          "metadata": {
            "tags": []
          },
          "execution_count": 60
        }
      ]
    },
    {
      "cell_type": "code",
      "metadata": {
        "colab": {
          "base_uri": "https://localhost:8080/",
          "height": 198
        },
        "id": "k4I509u5Rs9h",
        "outputId": "cb7fcf4c-2955-4fb4-b982-21b47b40b490"
      },
      "source": [
        "\r\n",
        "df = df[['Datetime',\t'CO',\t'PM10',\t'PM2.5'\t,'NO2',\t'O3']].dropna()\r\n",
        "df['Datetime']=pd.to_datetime(df['Datetime'], errors = 'coerce')\r\n",
        "\r\n",
        "df.tail()"
      ],
      "execution_count": null,
      "outputs": [
        {
          "output_type": "execute_result",
          "data": {
            "text/html": [
              "<div>\n",
              "<style scoped>\n",
              "    .dataframe tbody tr th:only-of-type {\n",
              "        vertical-align: middle;\n",
              "    }\n",
              "\n",
              "    .dataframe tbody tr th {\n",
              "        vertical-align: top;\n",
              "    }\n",
              "\n",
              "    .dataframe thead th {\n",
              "        text-align: right;\n",
              "    }\n",
              "</style>\n",
              "<table border=\"1\" class=\"dataframe\">\n",
              "  <thead>\n",
              "    <tr style=\"text-align: right;\">\n",
              "      <th></th>\n",
              "      <th>Datetime</th>\n",
              "      <th>CO</th>\n",
              "      <th>PM10</th>\n",
              "      <th>PM2.5</th>\n",
              "      <th>NO2</th>\n",
              "      <th>O3</th>\n",
              "    </tr>\n",
              "  </thead>\n",
              "  <tbody>\n",
              "    <tr>\n",
              "      <th>3445136</th>\n",
              "      <td>2020-09-09 20:00:00</td>\n",
              "      <td>2.0</td>\n",
              "      <td>31.0</td>\n",
              "      <td>39.0</td>\n",
              "      <td>5.0</td>\n",
              "      <td>25.0</td>\n",
              "    </tr>\n",
              "    <tr>\n",
              "      <th>3445137</th>\n",
              "      <td>2020-09-09 21:00:00</td>\n",
              "      <td>2.0</td>\n",
              "      <td>31.0</td>\n",
              "      <td>39.0</td>\n",
              "      <td>6.0</td>\n",
              "      <td>21.0</td>\n",
              "    </tr>\n",
              "    <tr>\n",
              "      <th>3445138</th>\n",
              "      <td>2020-09-09 22:00:00</td>\n",
              "      <td>2.0</td>\n",
              "      <td>32.0</td>\n",
              "      <td>39.0</td>\n",
              "      <td>6.0</td>\n",
              "      <td>16.0</td>\n",
              "    </tr>\n",
              "    <tr>\n",
              "      <th>3445139</th>\n",
              "      <td>2020-09-09 23:00:00</td>\n",
              "      <td>2.0</td>\n",
              "      <td>32.0</td>\n",
              "      <td>42.0</td>\n",
              "      <td>5.0</td>\n",
              "      <td>13.0</td>\n",
              "    </tr>\n",
              "    <tr>\n",
              "      <th>3445140</th>\n",
              "      <td>2020-09-09 00:00:00</td>\n",
              "      <td>2.0</td>\n",
              "      <td>33.0</td>\n",
              "      <td>43.0</td>\n",
              "      <td>5.0</td>\n",
              "      <td>12.0</td>\n",
              "    </tr>\n",
              "  </tbody>\n",
              "</table>\n",
              "</div>"
            ],
            "text/plain": [
              "                   Datetime   CO  PM10  PM2.5  NO2    O3\n",
              "3445136 2020-09-09 20:00:00  2.0  31.0   39.0  5.0  25.0\n",
              "3445137 2020-09-09 21:00:00  2.0  31.0   39.0  6.0  21.0\n",
              "3445138 2020-09-09 22:00:00  2.0  32.0   39.0  6.0  16.0\n",
              "3445139 2020-09-09 23:00:00  2.0  32.0   42.0  5.0  13.0\n",
              "3445140 2020-09-09 00:00:00  2.0  33.0   43.0  5.0  12.0"
            ]
          },
          "metadata": {
            "tags": []
          },
          "execution_count": 61
        }
      ]
    },
    {
      "cell_type": "code",
      "metadata": {
        "colab": {
          "base_uri": "https://localhost:8080/"
        },
        "id": "SZp-NMQzZdeE",
        "outputId": "9b597db3-bf16-42b6-c61c-a44c911f1589"
      },
      "source": [
        "df.info()"
      ],
      "execution_count": null,
      "outputs": [
        {
          "output_type": "stream",
          "text": [
            "<class 'pandas.core.frame.DataFrame'>\n",
            "Int64Index: 169612 entries, 373361 to 3445140\n",
            "Data columns (total 6 columns):\n",
            " #   Column    Non-Null Count   Dtype         \n",
            "---  ------    --------------   -----         \n",
            " 0   Datetime  169612 non-null  datetime64[ns]\n",
            " 1   CO        169612 non-null  float64       \n",
            " 2   PM10      169612 non-null  float64       \n",
            " 3   PM2.5     169612 non-null  float64       \n",
            " 4   NO2       169612 non-null  float64       \n",
            " 5   O3        169612 non-null  float64       \n",
            "dtypes: datetime64[ns](1), float64(5)\n",
            "memory usage: 9.1 MB\n"
          ],
          "name": "stdout"
        }
      ]
    },
    {
      "cell_type": "code",
      "metadata": {
        "colab": {
          "base_uri": "https://localhost:8080/",
          "height": 361
        },
        "id": "VILnjgHtrUai",
        "outputId": "af147829-8a91-47be-bee6-226fad03cffa"
      },
      "source": [
        "import matplotlib.pyplot as plt\r\n",
        " \r\n",
        "plt.figure(figsize=(20,5))\r\n",
        "plt.plot(df['Datetime'],df['CO'],scalex=True)\r\n",
        "plt.title( 'CO avg',\r\n",
        "          fontsize=20);"
      ],
      "execution_count": null,
      "outputs": [
        {
          "output_type": "display_data",
          "data": {
            "image/png": "[encoded data removed]",
            "text/plain": [
              "<Figure size 1440x360 with 1 Axes>"
            ]
          },
          "metadata": {
            "tags": [],
            "needs_background": "light"
          }
        }
      ]
    },
    {
      "cell_type": "code",
      "metadata": {
        "colab": {
          "base_uri": "https://localhost:8080/",
          "height": 288
        },
        "id": "NhIQSgLekgOm",
        "outputId": "d8d87781-f181-4363-daf6-5cc674b54399"
      },
      "source": [
        "df.describe()"
      ],
      "execution_count": null,
      "outputs": [
        {
          "output_type": "execute_result",
          "data": {
            "text/html": [
              "<div>\n",
              "<style scoped>\n",
              "    .dataframe tbody tr th:only-of-type {\n",
              "        vertical-align: middle;\n",
              "    }\n",
              "\n",
              "    .dataframe tbody tr th {\n",
              "        vertical-align: top;\n",
              "    }\n",
              "\n",
              "    .dataframe thead th {\n",
              "        text-align: right;\n",
              "    }\n",
              "</style>\n",
              "<table border=\"1\" class=\"dataframe\">\n",
              "  <thead>\n",
              "    <tr style=\"text-align: right;\">\n",
              "      <th></th>\n",
              "      <th>CO</th>\n",
              "      <th>PM10</th>\n",
              "      <th>PM2.5</th>\n",
              "      <th>NO2</th>\n",
              "      <th>O3</th>\n",
              "    </tr>\n",
              "  </thead>\n",
              "  <tbody>\n",
              "    <tr>\n",
              "      <th>count</th>\n",
              "      <td>169612.000000</td>\n",
              "      <td>169612.000000</td>\n",
              "      <td>169612.000000</td>\n",
              "      <td>169612.000000</td>\n",
              "      <td>169612.000000</td>\n",
              "    </tr>\n",
              "    <tr>\n",
              "      <th>mean</th>\n",
              "      <td>1.973905</td>\n",
              "      <td>21.734294</td>\n",
              "      <td>24.423643</td>\n",
              "      <td>5.178637</td>\n",
              "      <td>15.617621</td>\n",
              "    </tr>\n",
              "    <tr>\n",
              "      <th>std</th>\n",
              "      <td>1.562404</td>\n",
              "      <td>13.356113</td>\n",
              "      <td>15.041473</td>\n",
              "      <td>4.112909</td>\n",
              "      <td>10.795909</td>\n",
              "    </tr>\n",
              "    <tr>\n",
              "      <th>min</th>\n",
              "      <td>0.000000</td>\n",
              "      <td>2.000000</td>\n",
              "      <td>1.000000</td>\n",
              "      <td>0.000000</td>\n",
              "      <td>0.000000</td>\n",
              "    </tr>\n",
              "    <tr>\n",
              "      <th>25%</th>\n",
              "      <td>1.000000</td>\n",
              "      <td>13.000000</td>\n",
              "      <td>14.000000</td>\n",
              "      <td>2.000000</td>\n",
              "      <td>8.000000</td>\n",
              "    </tr>\n",
              "    <tr>\n",
              "      <th>50%</th>\n",
              "      <td>2.000000</td>\n",
              "      <td>18.000000</td>\n",
              "      <td>20.000000</td>\n",
              "      <td>4.000000</td>\n",
              "      <td>14.000000</td>\n",
              "    </tr>\n",
              "    <tr>\n",
              "      <th>75%</th>\n",
              "      <td>2.000000</td>\n",
              "      <td>27.000000</td>\n",
              "      <td>31.000000</td>\n",
              "      <td>7.000000</td>\n",
              "      <td>21.000000</td>\n",
              "    </tr>\n",
              "    <tr>\n",
              "      <th>max</th>\n",
              "      <td>25.000000</td>\n",
              "      <td>168.000000</td>\n",
              "      <td>196.000000</td>\n",
              "      <td>86.000000</td>\n",
              "      <td>163.000000</td>\n",
              "    </tr>\n",
              "  </tbody>\n",
              "</table>\n",
              "</div>"
            ],
            "text/plain": [
              "                  CO           PM10  ...            NO2             O3\n",
              "count  169612.000000  169612.000000  ...  169612.000000  169612.000000\n",
              "mean        1.973905      21.734294  ...       5.178637      15.617621\n",
              "std         1.562404      13.356113  ...       4.112909      10.795909\n",
              "min         0.000000       2.000000  ...       0.000000       0.000000\n",
              "25%         1.000000      13.000000  ...       2.000000       8.000000\n",
              "50%         2.000000      18.000000  ...       4.000000      14.000000\n",
              "75%         2.000000      27.000000  ...       7.000000      21.000000\n",
              "max        25.000000     168.000000  ...      86.000000     163.000000\n",
              "\n",
              "[8 rows x 5 columns]"
            ]
          },
          "metadata": {
            "tags": []
          },
          "execution_count": 79
        }
      ]
    },
    {
      "cell_type": "code",
      "metadata": {
        "id": "cA6RSFYZ9oKV"
      },
      "source": [
        "train_percent=0.8\r\n",
        "past=30\r\n",
        "future=7\r\n",
        "learning_rate = 0.001\r\n",
        "batch_size = 256\r\n",
        "epochs = 100\r\n",
        "train_split=int(train_percent * int(df.shape[0]))\r\n",
        "\r\n",
        "def normalize(data, train_split):\r\n",
        "    data_mean = data[:train_split].mean(axis=0)\r\n",
        "    data_std = data[:train_split].std(axis=0)\r\n",
        "    return (data - data_mean) / data_std"
      ],
      "execution_count": null,
      "outputs": []
    },
    {
      "cell_type": "code",
      "metadata": {
        "colab": {
          "base_uri": "https://localhost:8080/",
          "height": 437
        },
        "id": "ZE7lSXmI9u9j",
        "outputId": "38a4af13-93cd-48d4-9c86-462a7a6aa2aa"
      },
      "source": [
        "features=df[[\t'CO',\t'PM10',\t'PM2.5'\t,'NO2',\t'O3']]\r\n",
        "features.index=df['Datetime']\r\n",
        "features"
      ],
      "execution_count": null,
      "outputs": [
        {
          "output_type": "execute_result",
          "data": {
            "text/html": [
              "<div>\n",
              "<style scoped>\n",
              "    .dataframe tbody tr th:only-of-type {\n",
              "        vertical-align: middle;\n",
              "    }\n",
              "\n",
              "    .dataframe tbody tr th {\n",
              "        vertical-align: top;\n",
              "    }\n",
              "\n",
              "    .dataframe thead th {\n",
              "        text-align: right;\n",
              "    }\n",
              "</style>\n",
              "<table border=\"1\" class=\"dataframe\">\n",
              "  <thead>\n",
              "    <tr style=\"text-align: right;\">\n",
              "      <th></th>\n",
              "      <th>CO</th>\n",
              "      <th>PM10</th>\n",
              "      <th>PM2.5</th>\n",
              "      <th>NO2</th>\n",
              "      <th>O3</th>\n",
              "    </tr>\n",
              "    <tr>\n",
              "      <th>Datetime</th>\n",
              "      <th></th>\n",
              "      <th></th>\n",
              "      <th></th>\n",
              "      <th></th>\n",
              "      <th></th>\n",
              "    </tr>\n",
              "  </thead>\n",
              "  <tbody>\n",
              "    <tr>\n",
              "      <th>2014-04-10 10:00:00</th>\n",
              "      <td>3.0</td>\n",
              "      <td>25.0</td>\n",
              "      <td>27.0</td>\n",
              "      <td>11.0</td>\n",
              "      <td>4.0</td>\n",
              "    </tr>\n",
              "    <tr>\n",
              "      <th>2014-04-10 11:00:00</th>\n",
              "      <td>3.0</td>\n",
              "      <td>24.0</td>\n",
              "      <td>25.0</td>\n",
              "      <td>13.0</td>\n",
              "      <td>5.0</td>\n",
              "    </tr>\n",
              "    <tr>\n",
              "      <th>2014-04-10 12:00:00</th>\n",
              "      <td>4.0</td>\n",
              "      <td>23.0</td>\n",
              "      <td>25.0</td>\n",
              "      <td>16.0</td>\n",
              "      <td>6.0</td>\n",
              "    </tr>\n",
              "    <tr>\n",
              "      <th>2014-04-10 13:00:00</th>\n",
              "      <td>4.0</td>\n",
              "      <td>23.0</td>\n",
              "      <td>25.0</td>\n",
              "      <td>16.0</td>\n",
              "      <td>8.0</td>\n",
              "    </tr>\n",
              "    <tr>\n",
              "      <th>2014-04-10 14:00:00</th>\n",
              "      <td>4.0</td>\n",
              "      <td>23.0</td>\n",
              "      <td>24.0</td>\n",
              "      <td>10.0</td>\n",
              "      <td>10.0</td>\n",
              "    </tr>\n",
              "    <tr>\n",
              "      <th>...</th>\n",
              "      <td>...</td>\n",
              "      <td>...</td>\n",
              "      <td>...</td>\n",
              "      <td>...</td>\n",
              "      <td>...</td>\n",
              "    </tr>\n",
              "    <tr>\n",
              "      <th>2020-09-09 20:00:00</th>\n",
              "      <td>2.0</td>\n",
              "      <td>31.0</td>\n",
              "      <td>39.0</td>\n",
              "      <td>5.0</td>\n",
              "      <td>25.0</td>\n",
              "    </tr>\n",
              "    <tr>\n",
              "      <th>2020-09-09 21:00:00</th>\n",
              "      <td>2.0</td>\n",
              "      <td>31.0</td>\n",
              "      <td>39.0</td>\n",
              "      <td>6.0</td>\n",
              "      <td>21.0</td>\n",
              "    </tr>\n",
              "    <tr>\n",
              "      <th>2020-09-09 22:00:00</th>\n",
              "      <td>2.0</td>\n",
              "      <td>32.0</td>\n",
              "      <td>39.0</td>\n",
              "      <td>6.0</td>\n",
              "      <td>16.0</td>\n",
              "    </tr>\n",
              "    <tr>\n",
              "      <th>2020-09-09 23:00:00</th>\n",
              "      <td>2.0</td>\n",
              "      <td>32.0</td>\n",
              "      <td>42.0</td>\n",
              "      <td>5.0</td>\n",
              "      <td>13.0</td>\n",
              "    </tr>\n",
              "    <tr>\n",
              "      <th>2020-09-09 00:00:00</th>\n",
              "      <td>2.0</td>\n",
              "      <td>33.0</td>\n",
              "      <td>43.0</td>\n",
              "      <td>5.0</td>\n",
              "      <td>12.0</td>\n",
              "    </tr>\n",
              "  </tbody>\n",
              "</table>\n",
              "<p>169612 rows × 5 columns</p>\n",
              "</div>"
            ],
            "text/plain": [
              "                      CO  PM10  PM2.5   NO2    O3\n",
              "Datetime                                         \n",
              "2014-04-10 10:00:00  3.0  25.0   27.0  11.0   4.0\n",
              "2014-04-10 11:00:00  3.0  24.0   25.0  13.0   5.0\n",
              "2014-04-10 12:00:00  4.0  23.0   25.0  16.0   6.0\n",
              "2014-04-10 13:00:00  4.0  23.0   25.0  16.0   8.0\n",
              "2014-04-10 14:00:00  4.0  23.0   24.0  10.0  10.0\n",
              "...                  ...   ...    ...   ...   ...\n",
              "2020-09-09 20:00:00  2.0  31.0   39.0   5.0  25.0\n",
              "2020-09-09 21:00:00  2.0  31.0   39.0   6.0  21.0\n",
              "2020-09-09 22:00:00  2.0  32.0   39.0   6.0  16.0\n",
              "2020-09-09 23:00:00  2.0  32.0   42.0   5.0  13.0\n",
              "2020-09-09 00:00:00  2.0  33.0   43.0   5.0  12.0\n",
              "\n",
              "[169612 rows x 5 columns]"
            ]
          },
          "metadata": {
            "tags": []
          },
          "execution_count": 67
        }
      ]
    },
    {
      "cell_type": "code",
      "metadata": {
        "colab": {
          "base_uri": "https://localhost:8080/",
          "height": 407
        },
        "id": "5z6Yu5i195vb",
        "outputId": "61bb3159-3366-4c84-bd5d-d2bb312c6e7d"
      },
      "source": [
        "features_data=normalize(features.values,train_split)\r\n",
        "features_data = pd.DataFrame(features_data)\r\n",
        "train_data = features_data.loc[0 : train_split - 1]\r\n",
        "val_data = features_data.loc[train_split:]\r\n",
        "features_data"
      ],
      "execution_count": null,
      "outputs": [
        {
          "output_type": "execute_result",
          "data": {
            "text/html": [
              "<div>\n",
              "<style scoped>\n",
              "    .dataframe tbody tr th:only-of-type {\n",
              "        vertical-align: middle;\n",
              "    }\n",
              "\n",
              "    .dataframe tbody tr th {\n",
              "        vertical-align: top;\n",
              "    }\n",
              "\n",
              "    .dataframe thead th {\n",
              "        text-align: right;\n",
              "    }\n",
              "</style>\n",
              "<table border=\"1\" class=\"dataframe\">\n",
              "  <thead>\n",
              "    <tr style=\"text-align: right;\">\n",
              "      <th></th>\n",
              "      <th>0</th>\n",
              "      <th>1</th>\n",
              "      <th>2</th>\n",
              "      <th>3</th>\n",
              "      <th>4</th>\n",
              "    </tr>\n",
              "  </thead>\n",
              "  <tbody>\n",
              "    <tr>\n",
              "      <th>0</th>\n",
              "      <td>0.585281</td>\n",
              "      <td>0.195284</td>\n",
              "      <td>0.134230</td>\n",
              "      <td>1.336405</td>\n",
              "      <td>-1.038662</td>\n",
              "    </tr>\n",
              "    <tr>\n",
              "      <th>1</th>\n",
              "      <td>0.585281</td>\n",
              "      <td>0.123629</td>\n",
              "      <td>0.005570</td>\n",
              "      <td>1.808050</td>\n",
              "      <td>-0.947048</td>\n",
              "    </tr>\n",
              "    <tr>\n",
              "      <th>2</th>\n",
              "      <td>1.202422</td>\n",
              "      <td>0.051973</td>\n",
              "      <td>0.005570</td>\n",
              "      <td>2.515519</td>\n",
              "      <td>-0.855433</td>\n",
              "    </tr>\n",
              "    <tr>\n",
              "      <th>3</th>\n",
              "      <td>1.202422</td>\n",
              "      <td>0.051973</td>\n",
              "      <td>0.005570</td>\n",
              "      <td>2.515519</td>\n",
              "      <td>-0.672204</td>\n",
              "    </tr>\n",
              "    <tr>\n",
              "      <th>4</th>\n",
              "      <td>1.202422</td>\n",
              "      <td>0.051973</td>\n",
              "      <td>-0.058760</td>\n",
              "      <td>1.100582</td>\n",
              "      <td>-0.488974</td>\n",
              "    </tr>\n",
              "    <tr>\n",
              "      <th>...</th>\n",
              "      <td>...</td>\n",
              "      <td>...</td>\n",
              "      <td>...</td>\n",
              "      <td>...</td>\n",
              "      <td>...</td>\n",
              "    </tr>\n",
              "    <tr>\n",
              "      <th>169607</th>\n",
              "      <td>-0.031860</td>\n",
              "      <td>0.625218</td>\n",
              "      <td>0.906188</td>\n",
              "      <td>-0.078532</td>\n",
              "      <td>0.885246</td>\n",
              "    </tr>\n",
              "    <tr>\n",
              "      <th>169608</th>\n",
              "      <td>-0.031860</td>\n",
              "      <td>0.625218</td>\n",
              "      <td>0.906188</td>\n",
              "      <td>0.157291</td>\n",
              "      <td>0.518787</td>\n",
              "    </tr>\n",
              "    <tr>\n",
              "      <th>169609</th>\n",
              "      <td>-0.031860</td>\n",
              "      <td>0.696874</td>\n",
              "      <td>0.906188</td>\n",
              "      <td>0.157291</td>\n",
              "      <td>0.060714</td>\n",
              "    </tr>\n",
              "    <tr>\n",
              "      <th>169610</th>\n",
              "      <td>-0.031860</td>\n",
              "      <td>0.696874</td>\n",
              "      <td>1.099177</td>\n",
              "      <td>-0.078532</td>\n",
              "      <td>-0.214130</td>\n",
              "    </tr>\n",
              "    <tr>\n",
              "      <th>169611</th>\n",
              "      <td>-0.031860</td>\n",
              "      <td>0.768529</td>\n",
              "      <td>1.163507</td>\n",
              "      <td>-0.078532</td>\n",
              "      <td>-0.305745</td>\n",
              "    </tr>\n",
              "  </tbody>\n",
              "</table>\n",
              "<p>169612 rows × 5 columns</p>\n",
              "</div>"
            ],
            "text/plain": [
              "               0         1         2         3         4\n",
              "0       0.585281  0.195284  0.134230  1.336405 -1.038662\n",
              "1       0.585281  0.123629  0.005570  1.808050 -0.947048\n",
              "2       1.202422  0.051973  0.005570  2.515519 -0.855433\n",
              "3       1.202422  0.051973  0.005570  2.515519 -0.672204\n",
              "4       1.202422  0.051973 -0.058760  1.100582 -0.488974\n",
              "...          ...       ...       ...       ...       ...\n",
              "169607 -0.031860  0.625218  0.906188 -0.078532  0.885246\n",
              "169608 -0.031860  0.625218  0.906188  0.157291  0.518787\n",
              "169609 -0.031860  0.696874  0.906188  0.157291  0.060714\n",
              "169610 -0.031860  0.696874  1.099177 -0.078532 -0.214130\n",
              "169611 -0.031860  0.768529  1.163507 -0.078532 -0.305745\n",
              "\n",
              "[169612 rows x 5 columns]"
            ]
          },
          "metadata": {
            "tags": []
          },
          "execution_count": 68
        }
      ]
    },
    {
      "cell_type": "code",
      "metadata": {
        "colab": {
          "base_uri": "https://localhost:8080/"
        },
        "id": "2zN_8ejT9_QU",
        "outputId": "843b80f6-63d1-488f-bcff-711522e60981"
      },
      "source": [
        "start = past + future\r\n",
        "end = start + train_split\r\n",
        "\r\n",
        "x_train = train_data[[0]].values\r\n",
        "y_train = features_data.iloc[start:end][[0]]\r\n",
        "\r\n",
        "sequence_length = int(past)\r\n",
        "sequence_length"
      ],
      "execution_count": null,
      "outputs": [
        {
          "output_type": "execute_result",
          "data": {
            "text/plain": [
              "30"
            ]
          },
          "metadata": {
            "tags": []
          },
          "execution_count": 69
        }
      ]
    },
    {
      "cell_type": "code",
      "metadata": {
        "id": "bvC8qGzH-Lhj"
      },
      "source": [
        "dataset_train = tf.keras.preprocessing.timeseries_dataset_from_array(\r\n",
        "    x_train,\r\n",
        "    y_train,\r\n",
        "    sequence_length=sequence_length,\r\n",
        "    sampling_rate=1,\r\n",
        "    batch_size=batch_size,\r\n",
        ")"
      ],
      "execution_count": null,
      "outputs": []
    },
    {
      "cell_type": "code",
      "metadata": {
        "colab": {
          "base_uri": "https://localhost:8080/"
        },
        "id": "sVAJHMgf-N_0",
        "outputId": "9db6868c-46d3-4cf1-b55c-cc73a8f1906b"
      },
      "source": [
        "x_end = len(val_data) - past - future\r\n",
        "\r\n",
        "label_start = train_split + past + future\r\n",
        "\r\n",
        "x_val = val_data.iloc[:x_end][[0]].values\r\n",
        "y_val = features_data.iloc[label_start:][[0]]\r\n",
        "\r\n",
        "dataset_val = tf.keras.preprocessing.timeseries_dataset_from_array(\r\n",
        "    x_val,\r\n",
        "    y_val,\r\n",
        "    sequence_length=sequence_length,\r\n",
        "    sampling_rate=1,\r\n",
        "    batch_size=batch_size,\r\n",
        ")\r\n",
        "\r\n",
        "\r\n",
        "for batch in dataset_train.take(1):\r\n",
        "    inputs, targets = batch\r\n",
        "\r\n",
        "print(\"Input shape:\", inputs.numpy().shape)\r\n",
        "print(\"Target shape:\", targets.numpy().shape)"
      ],
      "execution_count": null,
      "outputs": [
        {
          "output_type": "stream",
          "text": [
            "Input shape: (256, 30, 1)\n",
            "Target shape: (256, 1)\n"
          ],
          "name": "stdout"
        }
      ]
    },
    {
      "cell_type": "code",
      "metadata": {
        "id": "WhHuQGqe-VCU"
      },
      "source": [
        "\r\n",
        "model = tf.keras.models.Sequential([\r\n",
        "  tf.keras.layers.Input(shape=(inputs.shape[1], inputs.shape[2])),\r\n",
        "  tf.keras.layers.LSTM(64, return_sequences=True),\r\n",
        "  tf.keras.layers.Dropout(0.2),\r\n",
        "  tf.keras.layers.LSTM(64),\r\n",
        "  tf.keras.layers.Dropout(0.5),\r\n",
        "  tf.keras.layers.Dense(32, activation=\"relu\"),\r\n",
        "  tf.keras.layers.Dense(10, activation=\"relu\"),\r\n",
        "  tf.keras.layers.Dense(1),\r\n",
        "])"
      ],
      "execution_count": null,
      "outputs": []
    },
    {
      "cell_type": "code",
      "metadata": {
        "id": "jfP7RjRf-XI8"
      },
      "source": [
        "model.compile(optimizer=tf.keras.optimizers.Adam(learning_rate=learning_rate),loss=tf.keras.losses.mean_absolute_error, metrics=[\"mae\"])\r\n",
        "path_checkpoint = \"model_checkpoint.h5\"\r\n",
        "es_callback = tf.keras.callbacks.EarlyStopping(monitor=\"mae\", min_delta=0, patience=5)\r\n",
        "\r\n",
        "modelckpt_callback = tf.keras.callbacks.ModelCheckpoint(\r\n",
        "    monitor=\"loss\",\r\n",
        "    filepath=path_checkpoint,\r\n",
        "    verbose=1,\r\n",
        "    save_weights_only=True,\r\n",
        "    save_best_only=True,\r\n",
        ")\r\n"
      ],
      "execution_count": null,
      "outputs": []
    },
    {
      "cell_type": "code",
      "metadata": {
        "colab": {
          "base_uri": "https://localhost:8080/"
        },
        "id": "zZKzAMP_-Z5i",
        "outputId": "d7e5d898-66ab-46a6-8097-d0d712a3593a"
      },
      "source": [
        "\r\n",
        "history = model.fit(\r\n",
        "    dataset_train,\r\n",
        "    epochs=epochs,\r\n",
        "    validation_data=dataset_val,\r\n",
        "    callbacks=[es_callback, modelckpt_callback],\r\n",
        ")"
      ],
      "execution_count": null,
      "outputs": [
        {
          "output_type": "stream",
          "text": [
            "Epoch 1/100\n",
            "530/530 [==============================] - 40s 69ms/step - loss: 0.5997 - mae: 0.5997 - val_loss: 0.4222 - val_mae: 0.4222\n",
            "\n",
            "Epoch 00001: loss improved from inf to 0.50331, saving model to model_checkpoint.h5\n",
            "Epoch 2/100\n",
            "530/530 [==============================] - 35s 66ms/step - loss: 0.5832 - mae: 0.5832 - val_loss: 0.4156 - val_mae: 0.4156\n",
            "\n",
            "Epoch 00002: loss improved from 0.50331 to 0.48545, saving model to model_checkpoint.h5\n",
            "Epoch 3/100\n",
            "530/530 [==============================] - 37s 69ms/step - loss: 0.5714 - mae: 0.5714 - val_loss: 0.4097 - val_mae: 0.4097\n",
            "\n",
            "Epoch 00003: loss improved from 0.48545 to 0.47675, saving model to model_checkpoint.h5\n",
            "Epoch 4/100\n",
            "530/530 [==============================] - 36s 68ms/step - loss: 0.5591 - mae: 0.5591 - val_loss: 0.4102 - val_mae: 0.4102\n",
            "\n",
            "Epoch 00004: loss improved from 0.47675 to 0.46998, saving model to model_checkpoint.h5\n",
            "Epoch 5/100\n",
            "530/530 [==============================] - 36s 68ms/step - loss: 0.5547 - mae: 0.5547 - val_loss: 0.4094 - val_mae: 0.4094\n",
            "\n",
            "Epoch 00005: loss improved from 0.46998 to 0.46598, saving model to model_checkpoint.h5\n",
            "Epoch 6/100\n",
            "530/530 [==============================] - 36s 68ms/step - loss: 0.5487 - mae: 0.5487 - val_loss: 0.4117 - val_mae: 0.4117\n",
            "\n",
            "Epoch 00006: loss improved from 0.46598 to 0.46164, saving model to model_checkpoint.h5\n",
            "Epoch 7/100\n",
            "530/530 [==============================] - 36s 68ms/step - loss: 0.5492 - mae: 0.5492 - val_loss: 0.4022 - val_mae: 0.4022\n",
            "\n",
            "Epoch 00007: loss improved from 0.46164 to 0.46142, saving model to model_checkpoint.h5\n",
            "Epoch 8/100\n",
            "530/530 [==============================] - 36s 69ms/step - loss: 0.5481 - mae: 0.5481 - val_loss: 0.3976 - val_mae: 0.3976\n",
            "\n",
            "Epoch 00008: loss improved from 0.46142 to 0.45684, saving model to model_checkpoint.h5\n",
            "Epoch 9/100\n",
            "530/530 [==============================] - 37s 69ms/step - loss: 0.5401 - mae: 0.5401 - val_loss: 0.4051 - val_mae: 0.4051\n",
            "\n",
            "Epoch 00009: loss improved from 0.45684 to 0.45279, saving model to model_checkpoint.h5\n",
            "Epoch 10/100\n",
            "530/530 [==============================] - 37s 70ms/step - loss: 0.5396 - mae: 0.5396 - val_loss: 0.3924 - val_mae: 0.3924\n",
            "\n",
            "Epoch 00010: loss improved from 0.45279 to 0.45108, saving model to model_checkpoint.h5\n",
            "Epoch 11/100\n",
            "530/530 [==============================] - 36s 68ms/step - loss: 0.5382 - mae: 0.5382 - val_loss: 0.3870 - val_mae: 0.3870\n",
            "\n",
            "Epoch 00011: loss did not improve from 0.45108\n",
            "Epoch 12/100\n",
            "530/530 [==============================] - 36s 68ms/step - loss: 0.5389 - mae: 0.5389 - val_loss: 0.3843 - val_mae: 0.3843\n",
            "\n",
            "Epoch 00012: loss improved from 0.45108 to 0.45020, saving model to model_checkpoint.h5\n",
            "Epoch 13/100\n",
            "530/530 [==============================] - 37s 69ms/step - loss: 0.5375 - mae: 0.5375 - val_loss: 0.3911 - val_mae: 0.3911\n",
            "\n",
            "Epoch 00013: loss did not improve from 0.45020\n",
            "Epoch 14/100\n",
            "530/530 [==============================] - 36s 69ms/step - loss: 0.5336 - mae: 0.5336 - val_loss: 0.3807 - val_mae: 0.3807\n",
            "\n",
            "Epoch 00014: loss improved from 0.45020 to 0.44748, saving model to model_checkpoint.h5\n",
            "Epoch 15/100\n",
            "530/530 [==============================] - 36s 68ms/step - loss: 0.5307 - mae: 0.5307 - val_loss: 0.3818 - val_mae: 0.3818\n",
            "\n",
            "Epoch 00015: loss improved from 0.44748 to 0.44589, saving model to model_checkpoint.h5\n",
            "Epoch 16/100\n",
            "530/530 [==============================] - 36s 69ms/step - loss: 0.5292 - mae: 0.5292 - val_loss: 0.3815 - val_mae: 0.3815\n",
            "\n",
            "Epoch 00016: loss improved from 0.44589 to 0.44561, saving model to model_checkpoint.h5\n",
            "Epoch 17/100\n",
            "530/530 [==============================] - 36s 69ms/step - loss: 0.5301 - mae: 0.5301 - val_loss: 0.3854 - val_mae: 0.3854\n",
            "\n",
            "Epoch 00017: loss improved from 0.44561 to 0.44546, saving model to model_checkpoint.h5\n",
            "Epoch 18/100\n",
            "530/530 [==============================] - 37s 69ms/step - loss: 0.5275 - mae: 0.5275 - val_loss: 0.3766 - val_mae: 0.3766\n",
            "\n",
            "Epoch 00018: loss improved from 0.44546 to 0.44371, saving model to model_checkpoint.h5\n",
            "Epoch 19/100\n",
            "530/530 [==============================] - 36s 69ms/step - loss: 0.5266 - mae: 0.5266 - val_loss: 0.3765 - val_mae: 0.3765\n",
            "\n",
            "Epoch 00019: loss improved from 0.44371 to 0.44354, saving model to model_checkpoint.h5\n",
            "Epoch 20/100\n",
            "530/530 [==============================] - 36s 69ms/step - loss: 0.5235 - mae: 0.5235 - val_loss: 0.3901 - val_mae: 0.3901\n",
            "\n",
            "Epoch 00020: loss improved from 0.44354 to 0.44173, saving model to model_checkpoint.h5\n",
            "Epoch 21/100\n",
            "530/530 [==============================] - 37s 69ms/step - loss: 0.5272 - mae: 0.5272 - val_loss: 0.3771 - val_mae: 0.3771\n",
            "\n",
            "Epoch 00021: loss did not improve from 0.44173\n",
            "Epoch 22/100\n",
            "530/530 [==============================] - 37s 69ms/step - loss: 0.5224 - mae: 0.5224 - val_loss: 0.3748 - val_mae: 0.3748\n",
            "\n",
            "Epoch 00022: loss improved from 0.44173 to 0.44167, saving model to model_checkpoint.h5\n",
            "Epoch 23/100\n",
            "530/530 [==============================] - 36s 69ms/step - loss: 0.5194 - mae: 0.5194 - val_loss: 0.3765 - val_mae: 0.3765\n",
            "\n",
            "Epoch 00023: loss improved from 0.44167 to 0.43963, saving model to model_checkpoint.h5\n",
            "Epoch 24/100\n",
            "530/530 [==============================] - 37s 69ms/step - loss: 0.5194 - mae: 0.5194 - val_loss: 0.3758 - val_mae: 0.3758\n",
            "\n",
            "Epoch 00024: loss did not improve from 0.43963\n",
            "Epoch 25/100\n",
            "530/530 [==============================] - 36s 69ms/step - loss: 0.5185 - mae: 0.5185 - val_loss: 0.3734 - val_mae: 0.3734\n",
            "\n",
            "Epoch 00025: loss improved from 0.43963 to 0.43916, saving model to model_checkpoint.h5\n",
            "Epoch 26/100\n",
            "530/530 [==============================] - 37s 69ms/step - loss: 0.5167 - mae: 0.5167 - val_loss: 0.3820 - val_mae: 0.3820\n",
            "\n",
            "Epoch 00026: loss improved from 0.43916 to 0.43735, saving model to model_checkpoint.h5\n",
            "Epoch 27/100\n",
            "530/530 [==============================] - 37s 70ms/step - loss: 0.5193 - mae: 0.5193 - val_loss: 0.3727 - val_mae: 0.3727\n",
            "\n",
            "Epoch 00027: loss did not improve from 0.43735\n",
            "Epoch 28/100\n",
            "530/530 [==============================] - 36s 69ms/step - loss: 0.5152 - mae: 0.5152 - val_loss: 0.3712 - val_mae: 0.3712\n",
            "\n",
            "Epoch 00028: loss improved from 0.43735 to 0.43733, saving model to model_checkpoint.h5\n",
            "Epoch 29/100\n",
            "530/530 [==============================] - 37s 69ms/step - loss: 0.5136 - mae: 0.5136 - val_loss: 0.3782 - val_mae: 0.3782\n",
            "\n",
            "Epoch 00029: loss improved from 0.43733 to 0.43597, saving model to model_checkpoint.h5\n",
            "Epoch 30/100\n",
            "530/530 [==============================] - 36s 68ms/step - loss: 0.5120 - mae: 0.5120 - val_loss: 0.3749 - val_mae: 0.3749\n",
            "\n",
            "Epoch 00030: loss improved from 0.43597 to 0.43507, saving model to model_checkpoint.h5\n",
            "Epoch 31/100\n",
            "530/530 [==============================] - 36s 69ms/step - loss: 0.5070 - mae: 0.5070 - val_loss: 0.3699 - val_mae: 0.3699\n",
            "\n",
            "Epoch 00031: loss improved from 0.43507 to 0.43488, saving model to model_checkpoint.h5\n",
            "Epoch 32/100\n",
            "530/530 [==============================] - 36s 69ms/step - loss: 0.5102 - mae: 0.5102 - val_loss: 0.3676 - val_mae: 0.3676\n",
            "\n",
            "Epoch 00032: loss did not improve from 0.43488\n",
            "Epoch 33/100\n",
            "530/530 [==============================] - 37s 70ms/step - loss: 0.5065 - mae: 0.5065 - val_loss: 0.3713 - val_mae: 0.3713\n",
            "\n",
            "Epoch 00033: loss improved from 0.43488 to 0.43303, saving model to model_checkpoint.h5\n",
            "Epoch 34/100\n",
            "530/530 [==============================] - 36s 68ms/step - loss: 0.5083 - mae: 0.5083 - val_loss: 0.3721 - val_mae: 0.3721\n",
            "\n",
            "Epoch 00034: loss did not improve from 0.43303\n",
            "Epoch 35/100\n",
            "530/530 [==============================] - 36s 68ms/step - loss: 0.5061 - mae: 0.5061 - val_loss: 0.3682 - val_mae: 0.3682\n",
            "\n",
            "Epoch 00035: loss improved from 0.43303 to 0.43204, saving model to model_checkpoint.h5\n",
            "Epoch 36/100\n",
            "530/530 [==============================] - 37s 69ms/step - loss: 0.5019 - mae: 0.5019 - val_loss: 0.3702 - val_mae: 0.3702\n",
            "\n",
            "Epoch 00036: loss improved from 0.43204 to 0.42969, saving model to model_checkpoint.h5\n",
            "Epoch 37/100\n",
            "530/530 [==============================] - 37s 69ms/step - loss: 0.5066 - mae: 0.5066 - val_loss: 0.3685 - val_mae: 0.3685\n",
            "\n",
            "Epoch 00037: loss did not improve from 0.42969\n",
            "Epoch 38/100\n",
            "530/530 [==============================] - 36s 69ms/step - loss: 0.5025 - mae: 0.5025 - val_loss: 0.3672 - val_mae: 0.3672\n",
            "\n",
            "Epoch 00038: loss did not improve from 0.42969\n",
            "Epoch 39/100\n",
            "530/530 [==============================] - 37s 69ms/step - loss: 0.4985 - mae: 0.4985 - val_loss: 0.3690 - val_mae: 0.3690\n",
            "\n",
            "Epoch 00039: loss improved from 0.42969 to 0.42904, saving model to model_checkpoint.h5\n",
            "Epoch 40/100\n",
            "530/530 [==============================] - 37s 69ms/step - loss: 0.4997 - mae: 0.4997 - val_loss: 0.3696 - val_mae: 0.3696\n",
            "\n",
            "Epoch 00040: loss improved from 0.42904 to 0.42838, saving model to model_checkpoint.h5\n",
            "Epoch 41/100\n",
            "530/530 [==============================] - 36s 68ms/step - loss: 0.5006 - mae: 0.5006 - val_loss: 0.3694 - val_mae: 0.3694\n",
            "\n",
            "Epoch 00041: loss did not improve from 0.42838\n",
            "Epoch 42/100\n",
            "530/530 [==============================] - 37s 70ms/step - loss: 0.5027 - mae: 0.5027 - val_loss: 0.3678 - val_mae: 0.3678\n",
            "\n",
            "Epoch 00042: loss improved from 0.42838 to 0.42823, saving model to model_checkpoint.h5\n",
            "Epoch 43/100\n",
            "530/530 [==============================] - 37s 69ms/step - loss: 0.5004 - mae: 0.5004 - val_loss: 0.3687 - val_mae: 0.3687\n",
            "\n",
            "Epoch 00043: loss improved from 0.42823 to 0.42785, saving model to model_checkpoint.h5\n",
            "Epoch 44/100\n",
            "530/530 [==============================] - 36s 69ms/step - loss: 0.4982 - mae: 0.4982 - val_loss: 0.3759 - val_mae: 0.3759\n",
            "\n",
            "Epoch 00044: loss improved from 0.42785 to 0.42669, saving model to model_checkpoint.h5\n",
            "Epoch 45/100\n",
            "530/530 [==============================] - 37s 69ms/step - loss: 0.4940 - mae: 0.4940 - val_loss: 0.3732 - val_mae: 0.3732\n",
            "\n",
            "Epoch 00045: loss improved from 0.42669 to 0.42638, saving model to model_checkpoint.h5\n",
            "Epoch 46/100\n",
            "530/530 [==============================] - 36s 68ms/step - loss: 0.4928 - mae: 0.4928 - val_loss: 0.3688 - val_mae: 0.3688\n",
            "\n",
            "Epoch 00046: loss improved from 0.42638 to 0.42515, saving model to model_checkpoint.h5\n",
            "Epoch 47/100\n",
            "530/530 [==============================] - 37s 69ms/step - loss: 0.4932 - mae: 0.4932 - val_loss: 0.3691 - val_mae: 0.3691\n",
            "\n",
            "Epoch 00047: loss improved from 0.42515 to 0.42491, saving model to model_checkpoint.h5\n",
            "Epoch 48/100\n",
            "530/530 [==============================] - 36s 68ms/step - loss: 0.4917 - mae: 0.4917 - val_loss: 0.3713 - val_mae: 0.3713\n",
            "\n",
            "Epoch 00048: loss improved from 0.42491 to 0.42360, saving model to model_checkpoint.h5\n",
            "Epoch 49/100\n",
            "530/530 [==============================] - 37s 69ms/step - loss: 0.4901 - mae: 0.4901 - val_loss: 0.3714 - val_mae: 0.3714\n",
            "\n",
            "Epoch 00049: loss improved from 0.42360 to 0.42345, saving model to model_checkpoint.h5\n",
            "Epoch 50/100\n",
            "530/530 [==============================] - 37s 69ms/step - loss: 0.4882 - mae: 0.4882 - val_loss: 0.3696 - val_mae: 0.3696\n",
            "\n",
            "Epoch 00050: loss improved from 0.42345 to 0.42093, saving model to model_checkpoint.h5\n",
            "Epoch 51/100\n",
            "530/530 [==============================] - 37s 69ms/step - loss: 0.4873 - mae: 0.4873 - val_loss: 0.3676 - val_mae: 0.3676\n",
            "\n",
            "Epoch 00051: loss did not improve from 0.42093\n",
            "Epoch 52/100\n",
            "530/530 [==============================] - 37s 69ms/step - loss: 0.4874 - mae: 0.4874 - val_loss: 0.3694 - val_mae: 0.3694\n",
            "\n",
            "Epoch 00052: loss did not improve from 0.42093\n",
            "Epoch 53/100\n",
            "530/530 [==============================] - 37s 69ms/step - loss: 0.4895 - mae: 0.4895 - val_loss: 0.3678 - val_mae: 0.3678\n",
            "\n",
            "Epoch 00053: loss did not improve from 0.42093\n",
            "Epoch 54/100\n",
            "530/530 [==============================] - 37s 69ms/step - loss: 0.4923 - mae: 0.4923 - val_loss: 0.3683 - val_mae: 0.3683\n",
            "\n",
            "Epoch 00054: loss did not improve from 0.42093\n",
            "Epoch 55/100\n",
            "530/530 [==============================] - 36s 69ms/step - loss: 0.4891 - mae: 0.4891 - val_loss: 0.3653 - val_mae: 0.3653\n",
            "\n",
            "Epoch 00055: loss did not improve from 0.42093\n"
          ],
          "name": "stdout"
        }
      ]
    },
    {
      "cell_type": "code",
      "metadata": {
        "colab": {
          "base_uri": "https://localhost:8080/"
        },
        "id": "5RF3JrkrUaWV",
        "outputId": "1cf3c020-b0a5-49ac-80fe-b1f43e817e30"
      },
      "source": [
        "history.history['mae']"
      ],
      "execution_count": null,
      "outputs": [
        {
          "output_type": "execute_result",
          "data": {
            "text/plain": [
              "[0.5033122897148132,\n",
              " 0.4854493737220764,\n",
              " 0.47675251960754395,\n",
              " 0.46998417377471924,\n",
              " 0.4659750759601593,\n",
              " 0.4616355299949646,\n",
              " 0.46142491698265076,\n",
              " 0.4568350911140442,\n",
              " 0.45278558135032654,\n",
              " 0.45108333230018616,\n",
              " 0.4511188864707947,\n",
              " 0.45020318031311035,\n",
              " 0.4510290324687958,\n",
              " 0.44747573137283325,\n",
              " 0.4458919167518616,\n",
              " 0.44561004638671875,\n",
              " 0.4454590678215027,\n",
              " 0.44370776414871216,\n",
              " 0.4435420632362366,\n",
              " 0.44172579050064087,\n",
              " 0.4427432417869568,\n",
              " 0.44167426228523254,\n",
              " 0.4396277070045471,\n",
              " 0.4399080276489258,\n",
              " 0.4391557574272156,\n",
              " 0.43735429644584656,\n",
              " 0.43893006443977356,\n",
              " 0.4373299181461334,\n",
              " 0.4359744191169739,\n",
              " 0.43506956100463867,\n",
              " 0.4348789155483246,\n",
              " 0.43504711985588074,\n",
              " 0.4330283999443054,\n",
              " 0.4336055815219879,\n",
              " 0.4320361018180847,\n",
              " 0.42968985438346863,\n",
              " 0.43173545598983765,\n",
              " 0.4307292699813843,\n",
              " 0.4290403425693512,\n",
              " 0.4283779263496399,\n",
              " 0.4296565353870392,\n",
              " 0.42823418974876404,\n",
              " 0.42785146832466125,\n",
              " 0.4266941249370575,\n",
              " 0.4263823926448822,\n",
              " 0.42514851689338684,\n",
              " 0.42491135001182556,\n",
              " 0.4235965609550476,\n",
              " 0.42345067858695984,\n",
              " 0.4209313690662384,\n",
              " 0.4217323958873749,\n",
              " 0.4226550757884979,\n",
              " 0.4224843978881836,\n",
              " 0.422653466463089,\n",
              " 0.4231562316417694]"
            ]
          },
          "metadata": {
            "tags": []
          },
          "execution_count": 75
        }
      ]
    },
    {
      "cell_type": "code",
      "metadata": {
        "id": "YGGovzLH-1Zf",
        "colab": {
          "base_uri": "https://localhost:8080/",
          "height": 295
        },
        "outputId": "04c7b71e-2271-4de0-eb3c-da56c28d54c1"
      },
      "source": [
        "import matplotlib.pyplot as plt\r\n",
        "\r\n",
        "plt.plot(history.history['mae'])\r\n",
        "plt.plot(history.history['val_mae'])\r\n",
        "plt.title('mae - val mae ')\r\n",
        "plt.xlabel('Epoch')\r\n",
        "plt.legend(['mae','val mae'], loc='best')\r\n",
        "plt.show()"
      ],
      "execution_count": null,
      "outputs": [
        {
          "output_type": "display_data",
          "data": {
            "image/png": "[encoded data removed]",
            "text/plain": [
              "<Figure size 432x288 with 1 Axes>"
            ]
          },
          "metadata": {
            "tags": [],
            "needs_background": "light"
          }
        }
      ]
    },
    {
      "cell_type": "code",
      "metadata": {
        "id": "PZKGfpXv_hjW",
        "colab": {
          "base_uri": "https://localhost:8080/",
          "height": 295
        },
        "outputId": "a4105faa-4049-44f8-e3f6-0e5697697396"
      },
      "source": [
        "import matplotlib.pyplot as plt\r\n",
        "\r\n",
        "plt.plot(history.history['loss'])\r\n",
        "plt.plot(history.history['val_loss'])\r\n",
        "plt.title('loss - val loss ')\r\n",
        "plt.xlabel('Epoch')\r\n",
        "plt.legend(['loss','val loss'], loc='best')\r\n",
        "plt.show()"
      ],
      "execution_count": null,
      "outputs": [
        {
          "output_type": "display_data",
          "data": {
            "image/png": "[encoded data removed]",
            "text/plain": [
              "<Figure size 432x288 with 1 Axes>"
            ]
          },
          "metadata": {
            "tags": [],
            "needs_background": "light"
          }
        }
      ]
    }
  ]
}